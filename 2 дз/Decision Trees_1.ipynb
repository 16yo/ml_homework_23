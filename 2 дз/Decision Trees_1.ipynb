{
  "cells": [
    {
      "cell_type": "code",
      "execution_count": 140,
      "metadata": {
        "id": "y3DiadTG-ru-"
      },
      "outputs": [],
      "source": [
        "import pandas as pd\n",
        "import numpy as np\n",
        "from matplotlib import pyplot as plt\n",
        "import seaborn \n",
        "import plotly.express as px\n",
        "from sklearn import tree\n",
        "from sklearn.model_selection import GridSearchCV\n",
        "from sklearn.dummy import DummyRegressor\n",
        "from sklearn.tree import DecisionTreeRegressor\n",
        "from sklearn.linear_model import LinearRegression\n",
        "from sklearn.metrics import mean_squared_error, r2_score, precision_score, recall_score, f1_score\n",
        "from sklearn.model_selection import train_test_split\n",
        "from sklearn.preprocessing import OrdinalEncoder\n"
      ]
    },
    {
      "cell_type": "markdown",
      "metadata": {
        "id": "-QpBS-Nd-fAO"
      },
      "source": [
        "# Домашняя работа: деревья решений"
      ]
    },
    {
      "attachments": {},
      "cell_type": "markdown",
      "metadata": {
        "id": "1ZVCYFgU-5Tw"
      },
      "source": [
        "В этой домашней работе вам предстоит научиться предсказывать цены товаров из маркетплейса Azamon.\n",
        "\n",
        "Требования к домашней работе:\n",
        "- Во всех графиках должны быть подписи через title, legend, etc.\n",
        "- Во время обучения моделей проверяйте, что у вас не текут данные. Обычно это позитивно влияет на качество модели на тесте, но негативно влияет на оценку 🌚\n",
        "- Если вы сдаете работу в Google Colaboratory, убедитесь, что ваша тетрадка доступна по ссылке.\n",
        "- Использование мемов допускается, но необходимо соблюдать меру. Несодержательная работа, состоящая только из мемов, получает 0 баллов."
      ]
    },
    {
      "cell_type": "markdown",
      "metadata": {
        "id": "JyTAlXb8CbXk"
      },
      "source": [
        "# Загрузка и подготовка данных"
      ]
    },
    {
      "cell_type": "code",
      "execution_count": 141,
      "metadata": {},
      "outputs": [],
      "source": [
        "df = pd.read_csv('amazon_co-ecommerce_sample.csv').drop(columns=[\n",
        "    'product_name',\n",
        "    'index',\n",
        "    'uniq_id',\n",
        "    'customers_who_bought_this_item_also_bought',\n",
        "    'items_customers_buy_after_viewing_this_item',\n",
        "    'sellers',\n",
        "    'description', # text\n",
        "    'product_information', # text\n",
        "    'product_description', # text\n",
        "    'customer_questions_and_answers', # text\n",
        "    'customer_reviews', # text\n",
        "])"
      ]
    },
    {
      "cell_type": "markdown",
      "metadata": {
        "id": "O59k78A8C_yP"
      },
      "source": [
        "## Очистка данных (1 балл)\n",
        "\n",
        "Посмотрите на признаки. Есть ли в них пропуски? Какое соотношение между NaN'ами и общим количеством данных? Есть ли смысл выкидывать какие-либо данные из этого датасета?"
      ]
    },
    {
      "attachments": {},
      "cell_type": "markdown",
      "metadata": {},
      "source": [
        "1) Посмотрим признаки объектов датасета."
      ]
    },
    {
      "cell_type": "code",
      "execution_count": 142,
      "metadata": {},
      "outputs": [
        {
          "data": {
            "text/plain": [
              "Index(['manufacturer', 'price', 'number_available_in_stock',\n",
              "       'number_of_reviews', 'number_of_answered_questions',\n",
              "       'average_review_rating', 'amazon_category_and_sub_category'],\n",
              "      dtype='object')"
            ]
          },
          "execution_count": 142,
          "metadata": {},
          "output_type": "execute_result"
        }
      ],
      "source": [
        "df.columns"
      ]
    },
    {
      "attachments": {},
      "cell_type": "markdown",
      "metadata": {},
      "source": [
        "2) Посмотрим долю пропусков в признаках к количеству объектов."
      ]
    },
    {
      "cell_type": "code",
      "execution_count": 143,
      "metadata": {},
      "outputs": [
        {
          "name": "stdout",
          "output_type": "stream",
          "text": [
            "10000\n"
          ]
        },
        {
          "data": {
            "text/plain": [
              "manufacturer                         0.07\n",
              "price                               14.35\n",
              "number_available_in_stock           25.00\n",
              "number_of_reviews                    0.18\n",
              "number_of_answered_questions         7.65\n",
              "average_review_rating                0.18\n",
              "amazon_category_and_sub_category     6.90\n",
              "dtype: float64"
            ]
          },
          "execution_count": 143,
          "metadata": {},
          "output_type": "execute_result"
        }
      ],
      "source": [
        "rows = max(df[i].size for i in df.columns)\n",
        "print(rows)\n",
        "df.isna().sum().apply(lambda v: 100.0 * v / rows)"
      ]
    },
    {
      "attachments": {},
      "cell_type": "markdown",
      "metadata": {},
      "source": [
        "3) Оказалось, что в number_available_in_stock четверть данных отсутствует. Возможно, стоит не учитывать этот признак, чтобы не запутывать модель."
      ]
    },
    {
      "cell_type": "code",
      "execution_count": 144,
      "metadata": {},
      "outputs": [],
      "source": [
        "df = df.drop(columns=['number_available_in_stock'])"
      ]
    },
    {
      "cell_type": "markdown",
      "metadata": {
        "id": "eH688KdZDdKY"
      },
      "source": [
        "## Подготовка данных (3 балла)\n",
        "\n",
        "Обработайте признаки. Выполните кодирование категориальных признаков, заполните пропуски в числовых признаках. Обратите внимание, что в датасете есть признак, который разбивается на несколько подпризнаков. Что это за признак? Закодируйте и его.\n",
        "\n",
        "Дополнительные вопросы (+ 1 балл):\n",
        "- Какие из признаков в этом датасете лучше кодировать через ordinal encoding?\n",
        "- Какие из признаков допустимо кодировать через one-hot?\n",
        "\n",
        "Прим.: суммарно за эту секцию можно получить до 4 баллов."
      ]
    },
    {
      "cell_type": "code",
      "execution_count": 145,
      "metadata": {},
      "outputs": [
        {
          "name": "stdout",
          "output_type": "stream",
          "text": [
            "<class 'pandas.core.frame.DataFrame'>\n",
            "RangeIndex: 10000 entries, 0 to 9999\n",
            "Data columns (total 6 columns):\n",
            " #   Column                            Non-Null Count  Dtype  \n",
            "---  ------                            --------------  -----  \n",
            " 0   manufacturer                      9993 non-null   object \n",
            " 1   price                             8565 non-null   object \n",
            " 2   number_of_reviews                 9982 non-null   object \n",
            " 3   number_of_answered_questions      9235 non-null   float64\n",
            " 4   average_review_rating             9982 non-null   object \n",
            " 5   amazon_category_and_sub_category  9310 non-null   object \n",
            "dtypes: float64(1), object(5)\n",
            "memory usage: 468.9+ KB\n"
          ]
        }
      ],
      "source": [
        "df.info()"
      ]
    },
    {
      "attachments": {},
      "cell_type": "markdown",
      "metadata": {},
      "source": [
        "Итак, нужно закодировать данные. "
      ]
    },
    {
      "cell_type": "code",
      "execution_count": 146,
      "metadata": {},
      "outputs": [
        {
          "data": {
            "text/plain": [
              "amazon_category_and_sub_category\n",
              "Die-Cast & Toy Vehicles > Toy Vehicles & Accessories > Scaled Models > Vehicles    880\n",
              "Figures & Playsets > Science Fiction & Fantasy                                     485\n",
              "Arts & Crafts > Children's Craft Kits > Bead Art & Jewellery-Making                368\n",
              "Characters & Brands > Disney > Toys                                                347\n",
              "Hobbies > Trading Cards & Accessories > Packs & Sets                               317\n",
              "                                                                                  ... \n",
              "Hobbies > Model Trains & Railway Sets                                                1\n",
              "Cooking & Dining > Kitchen Tools & Gadgets > Barware > Coasters                      1\n",
              "Women > Accessories > Eyewear & Accessories > Sunglasses                             1\n",
              "Hobbies > Model Trains & Railway Sets > Accessories                                  1\n",
              "Games > Drinking Games                                                               1\n",
              "Name: count, Length: 255, dtype: int64"
            ]
          },
          "execution_count": 146,
          "metadata": {},
          "output_type": "execute_result"
        }
      ],
      "source": [
        "df.amazon_category_and_sub_category.value_counts()"
      ]
    },
    {
      "attachments": {},
      "cell_type": "markdown",
      "metadata": {},
      "source": [
        "Категория amazon_category_and_sub_category, как видно, имеет подкатегории. Найдем их количество:"
      ]
    },
    {
      "cell_type": "code",
      "execution_count": 147,
      "metadata": {},
      "outputs": [
        {
          "name": "stdout",
          "output_type": "stream",
          "text": [
            "5\n"
          ]
        }
      ],
      "source": [
        "l = 0\n",
        "for i in df.amazon_category_and_sub_category:\n",
        "    try:\n",
        "        l_ = len(i.split(' > '))\n",
        "        if l < l_:\n",
        "            l = l_\n",
        "    except:\n",
        "        continue\n",
        "\n",
        "print(l)"
      ]
    },
    {
      "attachments": {},
      "cell_type": "markdown",
      "metadata": {},
      "source": [
        "Их оказалось 5, теперь заменим amazon_category_and_sub_category за 5 признаков - категория и подкатегории этого признака. Если длина цепочки будет меньше 5, то заполним оставшиеся значения 'пропусками' - 'space'. "
      ]
    },
    {
      "cell_type": "code",
      "execution_count": 148,
      "metadata": {},
      "outputs": [
        {
          "data": {
            "text/html": [
              "<div>\n",
              "<style scoped>\n",
              "    .dataframe tbody tr th:only-of-type {\n",
              "        vertical-align: middle;\n",
              "    }\n",
              "\n",
              "    .dataframe tbody tr th {\n",
              "        vertical-align: top;\n",
              "    }\n",
              "\n",
              "    .dataframe thead th {\n",
              "        text-align: right;\n",
              "    }\n",
              "</style>\n",
              "<table border=\"1\" class=\"dataframe\">\n",
              "  <thead>\n",
              "    <tr style=\"text-align: right;\">\n",
              "      <th></th>\n",
              "      <th>manufacturer</th>\n",
              "      <th>price</th>\n",
              "      <th>number_of_reviews</th>\n",
              "      <th>number_of_answered_questions</th>\n",
              "      <th>average_review_rating</th>\n",
              "      <th>1</th>\n",
              "      <th>2</th>\n",
              "      <th>3</th>\n",
              "      <th>4</th>\n",
              "      <th>5</th>\n",
              "    </tr>\n",
              "  </thead>\n",
              "  <tbody>\n",
              "    <tr>\n",
              "      <th>0</th>\n",
              "      <td>Hornby</td>\n",
              "      <td>£3.42</td>\n",
              "      <td>15</td>\n",
              "      <td>1.0</td>\n",
              "      <td>4.9 out of 5 stars</td>\n",
              "      <td>Hobbies</td>\n",
              "      <td>Model Trains &amp; Railway Sets</td>\n",
              "      <td>Rail Vehicles</td>\n",
              "      <td>Trains</td>\n",
              "      <td>space</td>\n",
              "    </tr>\n",
              "    <tr>\n",
              "      <th>1</th>\n",
              "      <td>FunkyBuys</td>\n",
              "      <td>£16.99</td>\n",
              "      <td>2</td>\n",
              "      <td>1.0</td>\n",
              "      <td>4.5 out of 5 stars</td>\n",
              "      <td>Hobbies</td>\n",
              "      <td>Model Trains &amp; Railway Sets</td>\n",
              "      <td>Rail Vehicles</td>\n",
              "      <td>Trains</td>\n",
              "      <td>space</td>\n",
              "    </tr>\n",
              "    <tr>\n",
              "      <th>2</th>\n",
              "      <td>ccf</td>\n",
              "      <td>£9.99</td>\n",
              "      <td>17</td>\n",
              "      <td>2.0</td>\n",
              "      <td>3.9 out of 5 stars</td>\n",
              "      <td>Hobbies</td>\n",
              "      <td>Model Trains &amp; Railway Sets</td>\n",
              "      <td>Rail Vehicles</td>\n",
              "      <td>Trains</td>\n",
              "      <td>space</td>\n",
              "    </tr>\n",
              "    <tr>\n",
              "      <th>3</th>\n",
              "      <td>Hornby</td>\n",
              "      <td>£39.99</td>\n",
              "      <td>1</td>\n",
              "      <td>2.0</td>\n",
              "      <td>5.0 out of 5 stars</td>\n",
              "      <td>Hobbies</td>\n",
              "      <td>Model Trains &amp; Railway Sets</td>\n",
              "      <td>Rail Vehicles</td>\n",
              "      <td>Trains</td>\n",
              "      <td>space</td>\n",
              "    </tr>\n",
              "    <tr>\n",
              "      <th>4</th>\n",
              "      <td>Hornby</td>\n",
              "      <td>£32.19</td>\n",
              "      <td>3</td>\n",
              "      <td>2.0</td>\n",
              "      <td>4.7 out of 5 stars</td>\n",
              "      <td>Hobbies</td>\n",
              "      <td>Model Trains &amp; Railway Sets</td>\n",
              "      <td>Rail Vehicles</td>\n",
              "      <td>Trains</td>\n",
              "      <td>space</td>\n",
              "    </tr>\n",
              "  </tbody>\n",
              "</table>\n",
              "</div>"
            ],
            "text/plain": [
              "  manufacturer   price number_of_reviews  number_of_answered_questions   \n",
              "0       Hornby   £3.42                15                           1.0  \\\n",
              "1    FunkyBuys  £16.99                 2                           1.0   \n",
              "2          ccf   £9.99                17                           2.0   \n",
              "3       Hornby  £39.99                 1                           2.0   \n",
              "4       Hornby  £32.19                 3                           2.0   \n",
              "\n",
              "  average_review_rating        1                            2              3   \n",
              "0    4.9 out of 5 stars  Hobbies  Model Trains & Railway Sets  Rail Vehicles  \\\n",
              "1    4.5 out of 5 stars  Hobbies  Model Trains & Railway Sets  Rail Vehicles   \n",
              "2    3.9 out of 5 stars  Hobbies  Model Trains & Railway Sets  Rail Vehicles   \n",
              "3    5.0 out of 5 stars  Hobbies  Model Trains & Railway Sets  Rail Vehicles   \n",
              "4    4.7 out of 5 stars  Hobbies  Model Trains & Railway Sets  Rail Vehicles   \n",
              "\n",
              "        4      5  \n",
              "0  Trains  space  \n",
              "1  Trains  space  \n",
              "2  Trains  space  \n",
              "3  Trains  space  \n",
              "4  Trains  space  "
            ]
          },
          "execution_count": 148,
          "metadata": {},
          "output_type": "execute_result"
        }
      ],
      "source": [
        "def categorize(s: str):\n",
        "    categories = []\n",
        "    try:\n",
        "        categories = s.split(' > ')\n",
        "        while len(categories) < 5:\n",
        "            categories.append('space')\n",
        "        return categories\n",
        "    except:\n",
        "        return [np.nan] * 5\n",
        "\n",
        "\n",
        "subcategories = df.amazon_category_and_sub_category.apply(lambda v : categorize(v))\n",
        "df = df.drop(columns=['amazon_category_and_sub_category'])\n",
        "\n",
        "subcategories.value_counts()\n",
        "\n",
        "#subc_columns = pd.DataFrame(columns=['1', '2', '3', '4', '5'], index=df.index)\n",
        "\n",
        "for i in range(5):\n",
        "    df[str(i + 1)] = [sc[i] for sc in subcategories]\n",
        "    \n",
        "\n",
        "df.head()"
      ]
    },
    {
      "attachments": {},
      "cell_type": "markdown",
      "metadata": {},
      "source": [
        "Итак, теперь закодируем все колонки"
      ]
    },
    {
      "cell_type": "code",
      "execution_count": 149,
      "metadata": {},
      "outputs": [
        {
          "name": "stdout",
          "output_type": "stream",
          "text": [
            "   manufacturer  price  number_of_reviews  number_of_answered_questions   \n",
            "0        1029.0   3.42               15.0                           1.0  \\\n",
            "1         801.0  16.99                2.0                           1.0   \n",
            "2        2555.0   9.99               17.0                           2.0   \n",
            "3        1029.0  39.99                1.0                           2.0   \n",
            "4        1029.0  32.19                3.0                           2.0   \n",
            "\n",
            "   average_review_rating     1     2     3     4    5  \n",
            "0                    4.9  18.0  90.0  81.0  39.0  4.0  \n",
            "1                    4.5  18.0  90.0  81.0  39.0  4.0  \n",
            "2                    3.9  18.0  90.0  81.0  39.0  4.0  \n",
            "3                    5.0  18.0  90.0  81.0  39.0  4.0  \n",
            "4                    4.7  18.0  90.0  81.0  39.0  4.0  \n"
          ]
        }
      ],
      "source": [
        "encoder = OrdinalEncoder()\n",
        "\n",
        "# subcategories\n",
        "for i in range(5):\n",
        "    df[str(i + 1)] = encoder.fit_transform(df[[str(i + 1)]])\n",
        "\n",
        "# manufacturer\n",
        "df['manufacturer'] = encoder.fit_transform(df[['manufacturer']])\n",
        "\n",
        "# price\n",
        "def code_price(s):\n",
        "    try:\n",
        "        s = s.replace(',', '')\n",
        "        s = s[1:]\n",
        "        return float(s)\n",
        "    except:\n",
        "        return np.nan\n",
        "\n",
        "df['price'] = df['price'].apply(lambda p : code_price(p))\n",
        "\n",
        "df.price.value_counts()\n",
        "\n",
        "# rating\n",
        "def get_rating(s: str):\n",
        "    try:\n",
        "        s = s[:3]\n",
        "        return float(s)\n",
        "    except:\n",
        "        return np.nan\n",
        "\n",
        "df['average_review_rating'] = df.average_review_rating.apply(lambda p: get_rating(p))\n",
        "\n",
        "df['number_of_reviews'].isna().any()\n",
        "\n",
        "# number_of_reviews\n",
        "\n",
        "def to_float(s):\n",
        "    try:\n",
        "        s = s.replace(',', '')\n",
        "        return float(s)\n",
        "    except:\n",
        "        return np.nan\n",
        "    \n",
        "df['number_of_reviews'] = df.number_of_reviews.apply(lambda n : to_float(n))\n",
        "\n",
        "\n",
        "print(df.head())"
      ]
    },
    {
      "attachments": {},
      "cell_type": "markdown",
      "metadata": {},
      "source": [
        "Уберем строчки, в которых много пропусков. Возможно, стоит удалять строчки, в которых ненановских значений меньше половины (всего колонок 10)"
      ]
    },
    {
      "cell_type": "code",
      "execution_count": 150,
      "metadata": {},
      "outputs": [],
      "source": [
        "#df = df[df.isna().sum(axis=1) < 5]"
      ]
    },
    {
      "attachments": {},
      "cell_type": "markdown",
      "metadata": {},
      "source": [
        "Осталось заменить пропуски в значениях средними по колонкам"
      ]
    },
    {
      "cell_type": "code",
      "execution_count": 151,
      "metadata": {},
      "outputs": [
        {
          "data": {
            "text/plain": [
              "False"
            ]
          },
          "execution_count": 151,
          "metadata": {},
          "output_type": "execute_result"
        }
      ],
      "source": [
        "for column in df.columns:\n",
        "    #print(column, df[column].mean())\n",
        "    df.loc[df[column].isna(), column] = df[~df[column].isna()][column].mean()\n",
        "\n",
        "df.isna().any().any()"
      ]
    },
    {
      "cell_type": "code",
      "execution_count": 152,
      "metadata": {},
      "outputs": [
        {
          "data": {
            "text/plain": [
              "manufacturer  price       number_of_reviews  number_of_answered_questions  average_review_rating  1     2      3      4     5  \n",
              "2037.0        20.251406   1.0                1.0                           5.0                    6.0   126.0  105.0  45.0  4.0    8\n",
              "480.0         20.251406   1.0                1.0                           5.0                    8.0   138.0  84.0   41.0  4.0    7\n",
              "601.0         20.251406   1.0                1.0                           5.0                    6.0   44.0   105.0  45.0  4.0    7\n",
              "979.0         20.251406   1.0                1.0                           5.0                    6.0   68.0   111.0  45.0  4.0    6\n",
              "1986.0        20.251406   1.0                1.0                           5.0                    15.0  41.0   111.0  45.0  4.0    6\n",
              "                                                                                                                                  ..\n",
              "978.0         20.251406   8.0                1.0                           4.6                    6.0   67.0   105.0  45.0  4.0    1\n",
              "                          9.0                4.0                           4.8                    6.0   67.0   105.0  45.0  4.0    1\n",
              "              34.260000   8.0                1.0                           4.5                    6.0   67.0   105.0  45.0  4.0    1\n",
              "              107.650000  2.0                2.0                           4.5                    6.0   67.0   105.0  45.0  4.0    1\n",
              "2650.0        4.990000    1.0                2.0                           5.0                    18.0  139.0  70.0   45.0  4.0    1\n",
              "Name: count, Length: 9722, dtype: int64"
            ]
          },
          "execution_count": 152,
          "metadata": {},
          "output_type": "execute_result"
        }
      ],
      "source": [
        "df.value_counts()"
      ]
    },
    {
      "cell_type": "markdown",
      "metadata": {
        "id": "JTRoUwANEcn9"
      },
      "source": [
        "# Обучение модели (3 балла)"
      ]
    },
    {
      "cell_type": "markdown",
      "metadata": {
        "id": "AyVaKKT7FFo5"
      },
      "source": [
        "## Бейзлайн\n",
        "\n",
        "Обучите базовую модель. Для этого используйте `sklearn.dummy.DummyRegressor`. Какое качество она показывает на тесте? Посчитайте MSE, RMSE."
      ]
    },
    {
      "cell_type": "code",
      "execution_count": 153,
      "metadata": {},
      "outputs": [
        {
          "data": {
            "text/plain": [
              "array([20.35951244, 20.35951244, 20.35951244, ..., 20.35951244,\n",
              "       20.35951244, 20.35951244])"
            ]
          },
          "execution_count": 153,
          "metadata": {},
          "output_type": "execute_result"
        }
      ],
      "source": [
        "X = df.drop(columns= 'price'); y = df['price']\n",
        "\n",
        "X_train, X_test, y_train, y_test = train_test_split(X, y, test_size = 0.33, random_state = 42)\n",
        "\n",
        "dr = DummyRegressor()\n",
        "\n",
        "dr.fit(X_train, y_train)\n",
        "\n",
        "y_pred = dr.predict(X_test)\n",
        "\n",
        "y_pred"
      ]
    },
    {
      "attachments": {},
      "cell_type": "markdown",
      "metadata": {},
      "source": [
        "Посчитаем оценки:"
      ]
    },
    {
      "cell_type": "code",
      "execution_count": 154,
      "metadata": {},
      "outputs": [
        {
          "name": "stdout",
          "output_type": "stream",
          "text": [
            "MSE = 1437.3520016242078, RMSE = 37.91242542523767  R2 = -7.466925556087745e-05\n"
          ]
        }
      ],
      "source": [
        "def scores(y_test, y_pred):\n",
        "    MSE = mean_squared_error(y_test, y_pred)\n",
        "    RMSE = np.sqrt(MSE)\n",
        "    R2 = r2_score(y_test, y_pred)\n",
        "    print(f\"MSE = {MSE}, RMSE = {RMSE}  R2 = {R2}\")\n",
        "\n",
        "scores(y_test, y_pred)"
      ]
    },
    {
      "cell_type": "markdown",
      "metadata": {
        "id": "rVW-MtPgF_vE"
      },
      "source": [
        "## Дерево решений\n",
        "\n",
        "Обучите регрессионное дерево решений, проверьте качество этой модели на тестовой выборке. Улучшилось ли качество по сравнению с базовой моделью? Оцените r2_score обученной модели."
      ]
    },
    {
      "cell_type": "code",
      "execution_count": 155,
      "metadata": {},
      "outputs": [
        {
          "name": "stdout",
          "output_type": "stream",
          "text": [
            "[ 4.09 12.36  9.48 ... 17.7   3.6   6.36]\n",
            "MSE = 1871.2346881739577, RMSE = 43.25777026354869  R2 = -0.30195972159947604\n"
          ]
        }
      ],
      "source": [
        "reg_tree = DecisionTreeRegressor()\n",
        "reg_tree.fit(X_train, y_train)\n",
        "\n",
        "y_pred = reg_tree.predict(X_test)\n",
        "\n",
        "print(y_pred)\n",
        "\n",
        "scores(y_test, y_pred)"
      ]
    },
    {
      "attachments": {},
      "cell_type": "markdown",
      "metadata": {},
      "source": [
        "Качество модели ухудшилось, показатель abs(R2) увеличился."
      ]
    },
    {
      "cell_type": "markdown",
      "metadata": {
        "id": "viVY_kUMG7Jv"
      },
      "source": [
        "## Линейная регрессия\n",
        "\n",
        "Попробуйте обучить линейную регрессию с параметрами по умолчанию. Оцените r2_score на тестовой выборке. Сравните качество с деревом решений. "
      ]
    },
    {
      "cell_type": "code",
      "execution_count": 156,
      "metadata": {},
      "outputs": [
        {
          "name": "stdout",
          "output_type": "stream",
          "text": [
            "[11.72815969 21.09629967 16.94604817 ... 16.78795215 14.18660486\n",
            " 26.49003888]\n",
            "MSE = 1425.9073461085854, RMSE = 37.76118835667894  R2 = 0.007888244537717748\n"
          ]
        }
      ],
      "source": [
        "lin_reg = LinearRegression()\n",
        "lin_reg.fit(X_train, y_train)\n",
        "\n",
        "y_pred = lin_reg.predict(X_test)\n",
        "\n",
        "print(y_pred)\n",
        "\n",
        "scores(y_test, y_pred)"
      ]
    },
    {
      "cell_type": "markdown",
      "metadata": {
        "id": "3J71riX2Guj3"
      },
      "source": [
        "# Гиперпараметры (2 балла)\n",
        "\n",
        "Переберите несколько гиперпараметров (не более двух-трёх). Обратите внимание, как эти параметры влияют на ошибку модели на тестовой выборке. Постройте для глубины дерева график переобучения (fitting curve) аналогичный тому, что мы строили на занятии. Найдите глубину дерева, начиная с которой модель начинает переобучаться."
      ]
    },
    {
      "cell_type": "code",
      "execution_count": 157,
      "metadata": {},
      "outputs": [],
      "source": [
        "import seaborn as sns\n",
        "\n",
        "\n",
        "def plot_fitting_curve(parameter: str, values: list, X_train, X_test, y_train, y_test):\n",
        "    train_curve = []\n",
        "    test_curve = []\n",
        "    for value in values:\n",
        "        # инициализация объекта из словаря\n",
        "        # распаковка словаря через ** эквивалентна перечислению аргументов\n",
        "        model = DecisionTreeRegressor(**{parameter: value})\n",
        "        model.fit(X_train, y_train)\n",
        "        y_pred_train, y_pred_test = model.predict(X_train), model.predict(X_test)\n",
        "        train_curve.append(np.sqrt(mean_squared_error(y_train, y_pred_train)))\n",
        "        test_curve.append(np.sqrt(mean_squared_error(y_test, y_pred_test)))\n",
        "    sns.lineplot(x=values, y=train_curve, label='train')\n",
        "    sns.lineplot(x=values, y=test_curve, label='test')"
      ]
    },
    {
      "cell_type": "code",
      "execution_count": 158,
      "metadata": {},
      "outputs": [
        {
          "data": {
            "image/png": "[encoded data removed]",
            "text/plain": [
              "<Figure size 640x480 with 1 Axes>"
            ]
          },
          "metadata": {},
          "output_type": "display_data"
        }
      ],
      "source": [
        "plot_fitting_curve('max_depth', np.arange(1, 10), X_train, X_test, y_train, y_test)"
      ]
    },
    {
      "attachments": {},
      "cell_type": "markdown",
      "metadata": {},
      "source": [
        "Для глубины лучшее значение - это 5, т.к. после модель переобучается и начинает выдавать результаты хуже."
      ]
    },
    {
      "cell_type": "code",
      "execution_count": 159,
      "metadata": {},
      "outputs": [
        {
          "data": {
            "image/png": "[encoded data removed]",
            "text/plain": [
              "<Figure size 640x480 with 1 Axes>"
            ]
          },
          "metadata": {},
          "output_type": "display_data"
        }
      ],
      "source": [
        "plot_fitting_curve('min_samples_split', np.arange(2, 10), X_train, X_test, y_train, y_test)"
      ]
    },
    {
      "attachments": {},
      "cell_type": "markdown",
      "metadata": {},
      "source": [
        "Тут 6"
      ]
    },
    {
      "cell_type": "code",
      "execution_count": 161,
      "metadata": {},
      "outputs": [
        {
          "data": {
            "image/png": "[encoded data removed]",
            "text/plain": [
              "<Figure size 640x480 with 1 Axes>"
            ]
          },
          "metadata": {},
          "output_type": "display_data"
        }
      ],
      "source": [
        "plot_fitting_curve('min_samples_leaf', np.arange(3, 20), X_train, X_test, y_train, y_test)"
      ]
    },
    {
      "attachments": {},
      "cell_type": "markdown",
      "metadata": {},
      "source": [
        "Тут 16"
      ]
    },
    {
      "cell_type": "code",
      "execution_count": 162,
      "metadata": {},
      "outputs": [
        {
          "name": "stdout",
          "output_type": "stream",
          "text": [
            "MSE = 1344.058482387411, RMSE = 36.66140316991987  R2 = 0.06483669921159085\n"
          ]
        }
      ],
      "source": [
        "tree_par = DecisionTreeRegressor(max_depth=5, min_samples_split=6, min_samples_leaf=16)\n",
        "tree_par.fit(X_train, y_train)\n",
        "y_pred = tree_par.predict(X_test)\n",
        "\n",
        "scores(y_test, y_pred)"
      ]
    },
    {
      "attachments": {},
      "cell_type": "markdown",
      "metadata": {},
      "source": [
        "Стало чуть-чуть да лучше)"
      ]
    },
    {
      "cell_type": "markdown",
      "metadata": {
        "id": "rJlf6gJ9RBhf"
      },
      "source": [
        "# Простое ансамблирование (1 балл)\n",
        "\n",
        "В этой секции мы реализуем простой ансамбль деревьев."
      ]
    },
    {
      "cell_type": "code",
      "execution_count": 95,
      "metadata": {
        "id": "Ht7wq9TqUfvZ"
      },
      "outputs": [],
      "source": [
        "class EnsembleTreeRegressor:\n",
        "    def __init__(self, num_trees=5, samples_frac=0.8, **model_kwargs):\n",
        "        self.num_trees= num_trees\n",
        "        self._samples_frac = 0.8\n",
        "        self._trees = [DecisionTreeRegressor(**model_kwargs) for _ in range(num_trees)]\n",
        "    def fit(self, x, y: pd.Series):\n",
        "        x = pd.DataFrame(x)\n",
        "        y = y.reset_index(drop=True)\n",
        "        for tree in self._trees:\n",
        "            tree_x = x.sample(frac=self._samples_frac, random_state=42)\n",
        "            tree_y = y[tree_x.index]\n",
        "            tree.fit(x, y)\n",
        "        return self\n",
        "\n",
        "    def predict(self, x: pd.DataFrame):\n",
        "        x = pd.DataFrame(x)\n",
        "        res = []\n",
        "        for i in range(self.num_trees):\n",
        "          res.append(self._trees[i].predict(x))\n",
        "        return sum(res) / len(res)"
      ]
    },
    {
      "cell_type": "markdown",
      "metadata": {
        "id": "FCxogZPuVZCF"
      },
      "source": [
        "Проверьте, работает ли этот ансамбль лучше обычного дерева с параметрами по умолчанию?\n",
        "\n",
        "Дополнительно переберите максимальную глубину дерева. Проверьте, насколько отличается момент начала переобучения у одиночного дерева и у ансамбля. Зависит ли этот момент от числа деревьев (`num_trees`)? От числа примеров для каждого дерева (`samples_frac`)? Постройте график fitting curve."
      ]
    }
  ],
  "metadata": {
    "colab": {
      "provenance": []
    },
    "gpuClass": "standard",
    "kernelspec": {
      "display_name": "base",
      "language": "python",
      "name": "python3"
    },
    "language_info": {
      "codemirror_mode": {
        "name": "ipython",
        "version": 3
      },
      "file_extension": ".py",
      "mimetype": "text/x-python",
      "name": "python",
      "nbconvert_exporter": "python",
      "pygments_lexer": "ipython3",
      "version": "3.10.6"
    },
    "vscode": {
      "interpreter": {
        "hash": "e4cce46d6be9934fbd27f9ca0432556941ea5bdf741d4f4d64c6cd7f8dfa8fba"
      }
    }
  },
  "nbformat": 4,
  "nbformat_minor": 0
}
